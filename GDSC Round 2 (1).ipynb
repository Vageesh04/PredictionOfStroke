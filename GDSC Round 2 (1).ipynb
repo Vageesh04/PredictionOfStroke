{
 "cells": [
  {
   "cell_type": "code",
   "execution_count": 1,
   "id": "ce3a728c",
   "metadata": {},
   "outputs": [],
   "source": [
    "import numpy as np\n",
    "import pandas as pd\n",
    "import matplotlib.pyplot as plt\n",
    "import sklearn as sk"
   ]
  },
  {
   "cell_type": "code",
   "execution_count": 2,
   "id": "d7dc0991",
   "metadata": {},
   "outputs": [],
   "source": [
    "data=pd.read_csv(\"train.csv\")\n",
    "data_test=pd.read_csv(\"test.csv\")"
   ]
  },
  {
   "cell_type": "code",
   "execution_count": 3,
   "id": "94c0dff4",
   "metadata": {},
   "outputs": [
    {
     "name": "stdout",
     "output_type": "stream",
     "text": [
      "   id  gender   age  hypertension  heart_disease  ever_married  work_type  \\\n",
      "0   0       1  28.0             0              0             1          2   \n",
      "1   1       1  33.0             0              0             1          2   \n",
      "2   2       0  42.0             0              0             1          2   \n",
      "3   3       1  56.0             0              0             1          2   \n",
      "4   4       0  24.0             0              0             0          2   \n",
      "\n",
      "   Residence_type  avg_glucose_level   bmi  smoking_status  stroke  \n",
      "0               1              79.53  31.1               2       0  \n",
      "1               0              78.44  23.9               1       0  \n",
      "2               0             103.00  40.3               0       0  \n",
      "3               1              64.87  28.8               2       0  \n",
      "4               0              73.36  28.8               2       0  \n",
      "      id  gender   age  hypertension  heart_disease  ever_married  work_type  \\\n",
      "0  15304       0  57.0             0              0             1          2   \n",
      "1  15305       1  70.0             1              0             1          2   \n",
      "2  15306       0   5.0             0              0             0          4   \n",
      "3  15307       0  56.0             0              0             1          0   \n",
      "4  15308       1  32.0             0              0             1          2   \n",
      "\n",
      "   Residence_type  avg_glucose_level   bmi  smoking_status  \n",
      "0               0              82.54  33.4               0  \n",
      "1               1              72.06  28.5               0  \n",
      "2               1             103.72  19.5               0  \n",
      "3               1              69.24  41.4               3  \n",
      "4               0             111.15  30.1               3  \n"
     ]
    }
   ],
   "source": [
    "from sklearn.preprocessing import LabelEncoder\n",
    "columns=['gender','ever_married','work_type','Residence_type','smoking_status']\n",
    "i=0\n",
    "value=np.arange(5)\n",
    "for i in value:\n",
    "    \n",
    "    data[columns[i]]=LabelEncoder().fit_transform(data[columns[i]])\n",
    "    data_test[columns[i]]=LabelEncoder().fit_transform(data_test[columns[i]])\n",
    "    \n",
    "print(data.head())\n",
    "print(data_test.head())"
   ]
  },
  {
   "cell_type": "code",
   "execution_count": 4,
   "id": "36f603b1",
   "metadata": {},
   "outputs": [
    {
     "name": "stdout",
     "output_type": "stream",
     "text": [
      "   id  gender       age  hypertension  heart_disease  ever_married  work_type  \\\n",
      "0   0       1 -0.625710             0              0             1          2   \n",
      "1   1       1 -0.392544             0              0             1          2   \n",
      "2   2       0  0.027154             0              0             1          2   \n",
      "3   3       1  0.680018             0              0             1          2   \n",
      "4   4       0 -0.812243             0              0             0          2   \n",
      "\n",
      "   Residence_type  avg_glucose_level       bmi  smoking_status  stroke  \n",
      "0               1          -0.373297  0.444397               2       0  \n",
      "1               0          -0.416084 -0.626698               1       0  \n",
      "2               0           0.547988  1.813018               0       0  \n",
      "3               1          -0.948757  0.102242               2       0  \n",
      "4               0          -0.615493  0.102242               2       0  \n",
      "      id  gender       age  hypertension  heart_disease  ever_married  \\\n",
      "0  15304       0  0.714762             0              0             1   \n",
      "1  15305       1  1.330966             1              0             1   \n",
      "2  15306       0 -1.750052             0              0             0   \n",
      "3  15307       0  0.667362             0              0             1   \n",
      "4  15308       1 -0.470245             0              0             1   \n",
      "\n",
      "   work_type  Residence_type  avg_glucose_level       bmi  smoking_status  \n",
      "0          2               0          -0.256927  0.765965               0  \n",
      "1          2               1          -0.661355  0.038264               0  \n",
      "2          4               1           0.560421 -1.298331               0  \n",
      "3          0               1          -0.770181  1.954048               3  \n",
      "4          2               0           0.847148  0.275880               3  \n"
     ]
    }
   ],
   "source": [
    "from sklearn.preprocessing import StandardScaler\n",
    "columns2=['avg_glucose_level','bmi','age']\n",
    "i=0\n",
    "values=np.arange(3)\n",
    "for i in values:\n",
    "    data[[columns2[i]]]=StandardScaler().fit_transform(data[[columns2[i]]])\n",
    "    data_test[[columns2[i]]]=StandardScaler().fit_transform(data_test[[columns2[i]]])\n",
    "print(data.head())\n",
    "print(data_test.head())"
   ]
  },
  {
   "cell_type": "code",
   "execution_count": 5,
   "id": "842514e5",
   "metadata": {},
   "outputs": [
    {
     "name": "stdout",
     "output_type": "stream",
     "text": [
      "                 0         1         2         3         4         5      \\\n",
      "gender         1.00000  1.000000  0.000000  1.000000  0.000000  0.000000   \n",
      "age           -0.62571 -0.392544  0.027154  0.680018 -0.812243 -0.345911   \n",
      "hypertension   0.00000  0.000000  0.000000  0.000000  0.000000  0.000000   \n",
      "heart_disease  0.00000  0.000000  0.000000  0.000000  0.000000  0.000000   \n",
      "ever_married   1.00000  1.000000  1.000000  1.000000  0.000000  1.000000   \n",
      "\n",
      "                  6         7         8         9      ...     15294    15295  \\\n",
      "gender         0.000000  1.000000  0.000000  0.000000  ...  1.000000  1.00000   \n",
      "age            0.540119  1.705948  0.167054  0.959817  ...  1.752581 -1.37184   \n",
      "hypertension   0.000000  0.000000  0.000000  0.000000  ...  0.000000  0.00000   \n",
      "heart_disease  0.000000  1.000000  0.000000  0.000000  ...  0.000000  0.00000   \n",
      "ever_married   1.000000  1.000000  1.000000  1.000000  ...  1.000000  0.00000   \n",
      "\n",
      "                  15296     15297     15298     15299     15300     15301  \\\n",
      "gender         0.000000  0.000000  0.000000  0.000000  0.000000  0.000000   \n",
      "age           -1.698272 -0.439177 -1.138675 -0.905509  0.213687  1.566048   \n",
      "hypertension   0.000000  0.000000  0.000000  0.000000  1.000000  0.000000   \n",
      "heart_disease  0.000000  0.000000  0.000000  0.000000  0.000000  0.000000   \n",
      "ever_married   0.000000  0.000000  0.000000  0.000000  1.000000  1.000000   \n",
      "\n",
      "                  15302     15303  \n",
      "gender         1.000000  0.000000  \n",
      "age            0.213687 -1.278574  \n",
      "hypertension   0.000000  0.000000  \n",
      "heart_disease  0.000000  0.000000  \n",
      "ever_married   1.000000  0.000000  \n",
      "\n",
      "[5 rows x 15304 columns]\n",
      "[[0 0 0 ... 0 0 0]]\n",
      "(10, 10204)\n"
     ]
    }
   ],
   "source": [
    "x=data.iloc[:,1:11]\n",
    "y=data.iloc[:,11]\n",
    "x_test=data_test.iloc[:,1:11]\n",
    "x=x.T\n",
    "x_test=x_test.T\n",
    "y=np.array(y)\n",
    "y=y.reshape(1,x.shape[1])\n",
    "print(x.head())\n",
    "print(y)\n",
    "print(x_test.shape)\n"
   ]
  },
  {
   "cell_type": "code",
   "execution_count": 6,
   "id": "53b4d103",
   "metadata": {},
   "outputs": [],
   "source": [
    "#logistic regression\n",
    "def sigmoid(a):    \n",
    "    return 1/(1+np.exp(-a))\n",
    "def model(X,Y,Learning_rate,Iteration):\n",
    "    W=np.zeros((10,1))\n",
    "    m=Y.size\n",
    "    Y=np.array(Y)\n",
    "    cost_list=[]\n",
    "    B=0\n",
    "        \n",
    "    for i in np.arange(Iteration):\n",
    "        z=(np.dot(W.T,X)+B)\n",
    "        Y_pred=sigmoid(z)\n",
    "        cost=(-1/m)*np.sum(Y*np.log(Y_pred)+(1-Y)*np.log(1-Y_pred))\n",
    "        d_W=(1/m)*np.dot((Y_pred-Y),X.T)\n",
    "        d_b=(1/m)*np.sum(Y_pred-Y)\n",
    "        W=W-Learning_rate*d_W.T\n",
    "        B=B-Learning_rate*d_b\n",
    "        cost_list.append(cost)\n",
    "        \n",
    "        if(i%(Iteration/5)==0 or i==(Iteration-1)):\n",
    "            print(cost)\n",
    "    return W, B, cost_list "
   ]
  },
  {
   "cell_type": "code",
   "execution_count": 7,
   "id": "c70d7892",
   "metadata": {},
   "outputs": [
    {
     "name": "stdout",
     "output_type": "stream",
     "text": [
      "0.6931471805599453\n",
      "0.20101023723486225\n",
      "0.182696367284371\n",
      "0.17614121170319982\n",
      "0.17189594116629894\n",
      "0.16857904336809543\n"
     ]
    }
   ],
   "source": [
    "Learning_rate=0.001\n",
    "IteratioN = 10000\n",
    "w,b,cost_list=model(x,y,Learning_rate=Learning_rate,Iteration=IteratioN)\n"
   ]
  },
  {
   "cell_type": "code",
   "execution_count": 8,
   "id": "4eca9bd7",
   "metadata": {},
   "outputs": [
    {
     "data": {
      "image/png": "[encoded data removed]",
      "text/plain": [
       "<Figure size 640x480 with 1 Axes>"
      ]
     },
     "metadata": {},
     "output_type": "display_data"
    }
   ],
   "source": [
    "range=np.arange(0,IteratioN)\n",
    "plt.plot(range,cost_list)\n",
    "plt.show()"
   ]
  },
  {
   "cell_type": "code",
   "execution_count": 9,
   "id": "23a579c8",
   "metadata": {},
   "outputs": [
    {
     "name": "stdout",
     "output_type": "stream",
     "text": [
      "          id\n",
      "0      15304\n",
      "1      15305\n",
      "2      15306\n",
      "3      15307\n",
      "4      15308\n",
      "...      ...\n",
      "10199  25503\n",
      "10200  25504\n",
      "10201  25505\n",
      "10202  25506\n",
      "10203  25507\n",
      "\n",
      "[10204 rows x 1 columns]\n",
      "(1, 10204)\n"
     ]
    },
    {
     "name": "stderr",
     "output_type": "stream",
     "text": [
      "C:\\Users\\VAGEESH DUBEY\\AppData\\Local\\Temp\\ipykernel_18500\\752068731.py:5: SettingWithCopyWarning: \n",
      "A value is trying to be set on a copy of a slice from a DataFrame.\n",
      "Try using .loc[row_indexer,col_indexer] = value instead\n",
      "\n",
      "See the caveats in the documentation: https://pandas.pydata.org/pandas-docs/stable/user_guide/indexing.html#returning-a-view-versus-a-copy\n",
      "  submission[\"stroke\"]=predicted_value.T\n"
     ]
    }
   ],
   "source": [
    "submission=data_test[[\"id\"]]\n",
    "print(submission)\n",
    "predicted_value=sigmoid(np.dot(w.T,x_test)+b)\n",
    "print(predicted_value.shape)\n",
    "submission[\"stroke\"]=predicted_value.T"
   ]
  },
  {
   "cell_type": "code",
   "execution_count": 10,
   "id": "589cbda6",
   "metadata": {},
   "outputs": [
    {
     "data": {
      "text/html": [
       "<div>\n",
       "<style scoped>\n",
       "    .dataframe tbody tr th:only-of-type {\n",
       "        vertical-align: middle;\n",
       "    }\n",
       "\n",
       "    .dataframe tbody tr th {\n",
       "        vertical-align: top;\n",
       "    }\n",
       "\n",
       "    .dataframe thead th {\n",
       "        text-align: right;\n",
       "    }\n",
       "</style>\n",
       "<table border=\"1\" class=\"dataframe\">\n",
       "  <thead>\n",
       "    <tr style=\"text-align: right;\">\n",
       "      <th></th>\n",
       "      <th>id</th>\n",
       "      <th>stroke</th>\n",
       "    </tr>\n",
       "  </thead>\n",
       "  <tbody>\n",
       "    <tr>\n",
       "      <th>0</th>\n",
       "      <td>15304</td>\n",
       "      <td>0.113021</td>\n",
       "    </tr>\n",
       "    <tr>\n",
       "      <th>1</th>\n",
       "      <td>15305</td>\n",
       "      <td>0.091379</td>\n",
       "    </tr>\n",
       "    <tr>\n",
       "      <th>2</th>\n",
       "      <td>15306</td>\n",
       "      <td>0.013737</td>\n",
       "    </tr>\n",
       "    <tr>\n",
       "      <th>3</th>\n",
       "      <td>15307</td>\n",
       "      <td>0.090808</td>\n",
       "    </tr>\n",
       "    <tr>\n",
       "      <th>4</th>\n",
       "      <td>15308</td>\n",
       "      <td>0.020803</td>\n",
       "    </tr>\n",
       "    <tr>\n",
       "      <th>...</th>\n",
       "      <td>...</td>\n",
       "      <td>...</td>\n",
       "    </tr>\n",
       "    <tr>\n",
       "      <th>10199</th>\n",
       "      <td>25503</td>\n",
       "      <td>0.027292</td>\n",
       "    </tr>\n",
       "    <tr>\n",
       "      <th>10200</th>\n",
       "      <td>25504</td>\n",
       "      <td>0.079166</td>\n",
       "    </tr>\n",
       "    <tr>\n",
       "      <th>10201</th>\n",
       "      <td>25505</td>\n",
       "      <td>0.016609</td>\n",
       "    </tr>\n",
       "    <tr>\n",
       "      <th>10202</th>\n",
       "      <td>25506</td>\n",
       "      <td>0.020608</td>\n",
       "    </tr>\n",
       "    <tr>\n",
       "      <th>10203</th>\n",
       "      <td>25507</td>\n",
       "      <td>0.011086</td>\n",
       "    </tr>\n",
       "  </tbody>\n",
       "</table>\n",
       "<p>10204 rows × 2 columns</p>\n",
       "</div>"
      ],
      "text/plain": [
       "          id    stroke\n",
       "0      15304  0.113021\n",
       "1      15305  0.091379\n",
       "2      15306  0.013737\n",
       "3      15307  0.090808\n",
       "4      15308  0.020803\n",
       "...      ...       ...\n",
       "10199  25503  0.027292\n",
       "10200  25504  0.079166\n",
       "10201  25505  0.016609\n",
       "10202  25506  0.020608\n",
       "10203  25507  0.011086\n",
       "\n",
       "[10204 rows x 2 columns]"
      ]
     },
     "execution_count": 10,
     "metadata": {},
     "output_type": "execute_result"
    }
   ],
   "source": [
    "submission"
   ]
  },
  {
   "cell_type": "code",
   "execution_count": 11,
   "id": "9baf4617",
   "metadata": {},
   "outputs": [],
   "source": [
    "submission.to_csv(\"submission.csv\", index=None)"
   ]
  },
  {
   "cell_type": "code",
   "execution_count": 12,
   "id": "982ec53c",
   "metadata": {},
   "outputs": [
    {
     "data": {
      "text/html": [
       "<div>\n",
       "<style scoped>\n",
       "    .dataframe tbody tr th:only-of-type {\n",
       "        vertical-align: middle;\n",
       "    }\n",
       "\n",
       "    .dataframe tbody tr th {\n",
       "        vertical-align: top;\n",
       "    }\n",
       "\n",
       "    .dataframe thead th {\n",
       "        text-align: right;\n",
       "    }\n",
       "</style>\n",
       "<table border=\"1\" class=\"dataframe\">\n",
       "  <thead>\n",
       "    <tr style=\"text-align: right;\">\n",
       "      <th></th>\n",
       "      <th>id</th>\n",
       "      <th>stroke</th>\n",
       "    </tr>\n",
       "  </thead>\n",
       "  <tbody>\n",
       "    <tr>\n",
       "      <th>0</th>\n",
       "      <td>15304</td>\n",
       "      <td>0.113021</td>\n",
       "    </tr>\n",
       "    <tr>\n",
       "      <th>1</th>\n",
       "      <td>15305</td>\n",
       "      <td>0.091379</td>\n",
       "    </tr>\n",
       "    <tr>\n",
       "      <th>2</th>\n",
       "      <td>15306</td>\n",
       "      <td>0.013737</td>\n",
       "    </tr>\n",
       "    <tr>\n",
       "      <th>3</th>\n",
       "      <td>15307</td>\n",
       "      <td>0.090808</td>\n",
       "    </tr>\n",
       "    <tr>\n",
       "      <th>4</th>\n",
       "      <td>15308</td>\n",
       "      <td>0.020803</td>\n",
       "    </tr>\n",
       "    <tr>\n",
       "      <th>...</th>\n",
       "      <td>...</td>\n",
       "      <td>...</td>\n",
       "    </tr>\n",
       "    <tr>\n",
       "      <th>10199</th>\n",
       "      <td>25503</td>\n",
       "      <td>0.027292</td>\n",
       "    </tr>\n",
       "    <tr>\n",
       "      <th>10200</th>\n",
       "      <td>25504</td>\n",
       "      <td>0.079166</td>\n",
       "    </tr>\n",
       "    <tr>\n",
       "      <th>10201</th>\n",
       "      <td>25505</td>\n",
       "      <td>0.016609</td>\n",
       "    </tr>\n",
       "    <tr>\n",
       "      <th>10202</th>\n",
       "      <td>25506</td>\n",
       "      <td>0.020608</td>\n",
       "    </tr>\n",
       "    <tr>\n",
       "      <th>10203</th>\n",
       "      <td>25507</td>\n",
       "      <td>0.011086</td>\n",
       "    </tr>\n",
       "  </tbody>\n",
       "</table>\n",
       "<p>10204 rows × 2 columns</p>\n",
       "</div>"
      ],
      "text/plain": [
       "          id    stroke\n",
       "0      15304  0.113021\n",
       "1      15305  0.091379\n",
       "2      15306  0.013737\n",
       "3      15307  0.090808\n",
       "4      15308  0.020803\n",
       "...      ...       ...\n",
       "10199  25503  0.027292\n",
       "10200  25504  0.079166\n",
       "10201  25505  0.016609\n",
       "10202  25506  0.020608\n",
       "10203  25507  0.011086\n",
       "\n",
       "[10204 rows x 2 columns]"
      ]
     },
     "execution_count": 12,
     "metadata": {},
     "output_type": "execute_result"
    }
   ],
   "source": [
    "pd.read_csv(\"submission.csv\")"
   ]
  },
  {
   "cell_type": "code",
   "execution_count": null,
   "id": "bddfa0e0",
   "metadata": {},
   "outputs": [],
   "source": []
  },
  {
   "cell_type": "code",
   "execution_count": null,
   "id": "433df51d",
   "metadata": {},
   "outputs": [],
   "source": []
  }
 ],
 "metadata": {
  "kernelspec": {
   "display_name": "Python 3 (ipykernel)",
   "language": "python",
   "name": "python3"
  },
  "language_info": {
   "codemirror_mode": {
    "name": "ipython",
    "version": 3
   },
   "file_extension": ".py",
   "mimetype": "text/x-python",
   "name": "python",
   "nbconvert_exporter": "python",
   "pygments_lexer": "ipython3",
   "version": "3.11.4"
  }
 },
 "nbformat": 4,
 "nbformat_minor": 5
}
